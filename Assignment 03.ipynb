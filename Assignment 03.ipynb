{
 "cells": [
  {
   "cell_type": "markdown",
   "id": "7f0c0b90-99cb-46e4-9bc0-e2ff2c5f39cd",
   "metadata": {},
   "source": [
    "Name : Sajith Lakmal Liyanage"
   ]
  },
  {
   "cell_type": "markdown",
   "id": "e55c1c3d-1a3d-4eea-919f-53e9a440d58d",
   "metadata": {},
   "source": [
    "Date : 15 February 2025"
   ]
  },
  {
   "cell_type": "markdown",
   "id": "d73cb932-ec0f-4497-86d2-d674af267566",
   "metadata": {},
   "source": [
    "**(Q1)**  Write a lambda expression to get the product of two numbers.\n",
    "\n",
    "         Run test for expression(5,6) Output : 30"
   ]
  },
  {
   "cell_type": "code",
   "execution_count": 114,
   "id": "2818e166-c7c2-4cfa-abc3-e7651847be73",
   "metadata": {},
   "outputs": [
    {
     "data": {
      "text/plain": [
       "30"
      ]
     },
     "execution_count": 114,
     "metadata": {},
     "output_type": "execute_result"
    }
   ],
   "source": [
    "x=lambda a1,a2:a1*a2\n",
    "# Call the function\n",
    "x(5,6)"
   ]
  },
  {
   "cell_type": "markdown",
   "id": "c7a065fb-39be-4273-9fcc-e558ef61813a",
   "metadata": {},
   "source": [
    "**(Q2)** Write a function to get the area of a circle from the radius . Hint: remember to import the right modul for being able to calculte the area of the circle. \n",
    "\n",
    "\n",
    "Run test for functio n (10)\n",
    "\n",
    "Output : 314.1592653589793"
   ]
  },
  {
   "cell_type": "code",
   "execution_count": 116,
   "id": "14e3433e-c211-4f13-8e78-7b41a07430a4",
   "metadata": {},
   "outputs": [
    {
     "name": "stdout",
     "output_type": "stream",
     "text": [
      "314.1592653589793\n"
     ]
    }
   ],
   "source": [
    "import math\n",
    "\n",
    "def Cal_circle_area(radius):\n",
    "    return math.pi*radius**2\n",
    "\n",
    "print(Cal_circle_area(10))\n"
   ]
  },
  {
   "cell_type": "markdown",
   "id": "d178c56b-795f-4619-96f9-ed53fbc47269",
   "metadata": {},
   "source": [
    "**(Q3)** Build a simple calculator which can: add, subtract, multiply , divide.\n",
    "\n",
    "Hint: solve by writing a function that takes as argument two numbers and the operation and returns the desired output.\n",
    "\n",
    "Run test for function(2,5,’d’) \n",
    "\n",
    "Output: 0.4"
   ]
  },
  {
   "cell_type": "code",
   "execution_count": 118,
   "id": "b1e8aea8-7d37-4aa6-b98b-9d4909911587",
   "metadata": {},
   "outputs": [
    {
     "name": "stdout",
     "output_type": "stream",
     "text": [
      "0.4\n"
     ]
    }
   ],
   "source": [
    "def Calculator(num1,num2,operator):\n",
    "    if operator == 'a':\n",
    "        return num1+num2\n",
    "    elif operator == 's':     \n",
    "        return num1-num2\n",
    "    elif operator == 'd':     \n",
    "        return num1/num2\n",
    "    elif operator == 'm':     \n",
    "        return num1*num2\n",
    "\n",
    "print(Calculator(2,5,'d'))\n",
    "           \n",
    "        "
   ]
  },
  {
   "cell_type": "markdown",
   "id": "4966b94e-e504-4fe1-b874-7beb8550775f",
   "metadata": {},
   "source": [
    "**(Q4)** Define a class named Rectangle which can be constructed by a length and width. The Rectangle class has a method which can compute the area. \n",
    "\n",
    "Run test for r = Rectangle(5,10) r.area() \n",
    "\n",
    "Output: 50"
   ]
  },
  {
   "cell_type": "code",
   "execution_count": 120,
   "id": "bee6b8c9-b482-4331-90dc-002ab36bedf6",
   "metadata": {},
   "outputs": [
    {
     "name": "stdout",
     "output_type": "stream",
     "text": [
      "50\n"
     ]
    }
   ],
   "source": [
    "class Rectangle():\n",
    "    def __init__(self,length,width):\n",
    "        self.length = length\n",
    "        self.width = width\n",
    "        \n",
    "    def area(self):\n",
    "        return self.length * self.width\n",
    "        \n",
    "r=Rectangle(5,10)\n",
    "print(r.area())\n"
   ]
  },
  {
   "cell_type": "markdown",
   "id": "8fdc8dca-4043-4fa7-bc9b-d86423db6a5d",
   "metadata": {},
   "source": [
    "**(Q5)** Define a class named Shape and its subclass Square.\n",
    "\n",
    "Shape objects can be consrtucted by name and length has an area function wich return 0\n",
    "\n",
    "Square subclass has an init function which take a length and name as argument and has an area method and a describe method what prints the name of the Shape. \n",
    "\n",
    "Print the area from Square class. Run test for : s = Square('square',5) print(s.area()) print(s.describe()) \n",
    "\n",
    "Output: The area is: 25\n",
    "\n",
    "This is a: square"
   ]
  },
  {
   "cell_type": "code",
   "execution_count": 122,
   "id": "f96e51d2-3322-435e-b19d-8853f990615f",
   "metadata": {},
   "outputs": [
    {
     "name": "stdout",
     "output_type": "stream",
     "text": [
      "the area is: 25\n",
      "This is a: square\n"
     ]
    }
   ],
   "source": [
    "class Shape():\n",
    "    def __init__(self,name,length):\n",
    "        self.name = name\n",
    "        self.length = length\n",
    "    def area(self):\n",
    "        return 0\n",
    "\n",
    "class Square(Shape):\n",
    "    def __init__(self,name,length):\n",
    "        super().__init__(name,length)\n",
    "\n",
    "    def area(self):        \n",
    "        return f\"the area is: {self.length ** 2}\"\n",
    "    def describe(self):\n",
    "        return f\"This is a: {self.name}\"\n",
    "\n",
    "s = Square('square',5)\n",
    "print(s.area())\n",
    "print(s.describe())         \n",
    "        "
   ]
  },
  {
   "cell_type": "code",
   "execution_count": null,
   "id": "d9fa5263-e608-42d0-97e2-aa117078be8f",
   "metadata": {},
   "outputs": [],
   "source": []
  }
 ],
 "metadata": {
  "kernelspec": {
   "display_name": "Python [conda env:base] *",
   "language": "python",
   "name": "conda-base-py"
  },
  "language_info": {
   "codemirror_mode": {
    "name": "ipython",
    "version": 3
   },
   "file_extension": ".py",
   "mimetype": "text/x-python",
   "name": "python",
   "nbconvert_exporter": "python",
   "pygments_lexer": "ipython3",
   "version": "3.12.3"
  }
 },
 "nbformat": 4,
 "nbformat_minor": 5
}
